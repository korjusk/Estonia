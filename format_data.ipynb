{
 "cells": [
  {
   "cell_type": "code",
   "execution_count": 1,
   "metadata": {},
   "outputs": [],
   "source": [
    "%matplotlib inline"
   ]
  },
  {
   "cell_type": "code",
   "execution_count": 1,
   "metadata": {},
   "outputs": [],
   "source": [
    "import pandas as pd\n",
    "import re"
   ]
  },
  {
   "cell_type": "code",
   "execution_count": 2,
   "metadata": {},
   "outputs": [],
   "source": [
    "def df_to_markdown(df, index=True, header=True):\n",
    "    if not header:\n",
    "        return df.to_csv(sep=\"|\", index=index, header=False)\n",
    "    else:\n",
    "        fmt = ['---' for i in range(len(df.columns))]\n",
    "        df_fmt = pd.DataFrame([fmt], columns=df.columns)\n",
    "        df_formatted = pd.concat([df_fmt, df])\n",
    "        return df_formatted.to_csv(sep=\"|\", index=index)"
   ]
  },
  {
   "cell_type": "code",
   "execution_count": 3,
   "metadata": {},
   "outputs": [],
   "source": [
    "def df_md_summary(df, mean=None, rows=3, index=True, header=True):\n",
    "    top = df_to_markdown(df.head(rows))[:-1]\n",
    "    top = 'Rank' + top.replace('0|---', '---|---')\n",
    "    print(top)\n",
    "    \n",
    "    sep = '...|...|...'\n",
    "    \n",
    "    print(sep)\n",
    "    if mean:\n",
    "        mean = int(round(df[mean].mean()))\n",
    "        print(f'...|mean|{mean}')\n",
    "        print(sep)\n",
    "    \n",
    "    bottom = df_to_markdown(df.tail(rows), header=False)\n",
    "    print(bottom)\n"
   ]
  },
  {
   "cell_type": "code",
   "execution_count": 36,
   "metadata": {},
   "outputs": [],
   "source": [
    "#.to_csv('data/xxx.csv', index_label='Rank')"
   ]
  },
  {
   "cell_type": "code",
   "execution_count": 52,
   "metadata": {},
   "outputs": [],
   "source": [
    "maternity = pd.read_csv('data/maternity.csv', index_col='Rank')\n",
    "freedom = pd.read_csv('data/freedom.csv', index_col='Rank')\n",
    "atheism = pd.read_csv('data/atheism.csv', index_col='Rank')\n",
    "tax = pd.read_csv('data/tax.csv', index_col='Rank')\n",
    "dept = pd.read_csv('data/dept.csv', index_col='Rank')\n",
    "literacy = pd.read_csv('data/literacy.csv', index_col='Rank')\n",
    "pisa = pd.read_csv('data/pisa.csv', index_col='Rank')\n",
    "entrepreneur = pd.read_csv('data/entrepreneur.csv', index_col='Rank')\n",
    "security = pd.read_csv('data/security.csv', index_col='Rank')"
   ]
  }
 ],
 "metadata": {
  "kernelspec": {
   "display_name": "Python 3",
   "language": "python",
   "name": "python3"
  },
  "language_info": {
   "codemirror_mode": {
    "name": "ipython",
    "version": 3
   },
   "file_extension": ".py",
   "mimetype": "text/x-python",
   "name": "python",
   "nbconvert_exporter": "python",
   "pygments_lexer": "ipython3",
   "version": "3.7.2"
  }
 },
 "nbformat": 4,
 "nbformat_minor": 2
}
