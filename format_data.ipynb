{
 "cells": [
  {
   "cell_type": "code",
   "execution_count": 1,
   "metadata": {},
   "outputs": [],
   "source": [
    "%matplotlib inline"
   ]
  },
  {
   "cell_type": "code",
   "execution_count": 2,
   "metadata": {},
   "outputs": [],
   "source": [
    "import pandas as pd\n",
    "import re"
   ]
  },
  {
   "cell_type": "code",
   "execution_count": 3,
   "metadata": {},
   "outputs": [],
   "source": [
    "def df_to_markdown(df, index=True, header=True):\n",
    "    if not header:\n",
    "        return df.to_csv(sep=\"|\", index=index, header=False)\n",
    "    else:\n",
    "        fmt = ['---' for i in range(len(df.columns))]\n",
    "        df_fmt = pd.DataFrame([fmt], columns=df.columns)\n",
    "        df_formatted = pd.concat([df_fmt, df])\n",
    "        return df_formatted.to_csv(sep=\"|\", index=index)"
   ]
  },
  {
   "cell_type": "code",
   "execution_count": 4,
   "metadata": {},
   "outputs": [],
   "source": [
    "def df_md_summary(df, mean=None, rows=4, index=True, header=True):\n",
    "    top = df_to_markdown(df.head(rows))[:-1]\n",
    "    top = 'Rank' + top.replace('0|---', '---|---')\n",
    "    print(top)\n",
    "    \n",
    "    if mean:\n",
    "        mean = int(round(df[mean].mean()))\n",
    "        print('...|...|...')\n",
    "        print(f'...|mean|{mean}')\n",
    "        print('...|...|...')\n",
    "    \n",
    "    bottom = df_to_markdown(df.tail(rows), header=False)\n",
    "    print(bottom)\n"
   ]
  },
  {
   "cell_type": "code",
   "execution_count": 5,
   "metadata": {},
   "outputs": [],
   "source": [
    "maternity = pd.read_csv('data/maternity.csv', index_col='Rank')\n",
    "freedom = pd.read_csv('data/freedom.csv', index_col='Rank')\n",
    "atheism = pd.read_csv('data/atheism.csv', index_col='Rank')\n",
    "tax = pd.read_csv('data/tax.csv', index_col='Rank')"
   ]
  },
  {
   "cell_type": "code",
   "execution_count": 6,
   "metadata": {},
   "outputs": [
    {
     "name": "stdout",
     "output_type": "stream",
     "text": [
      "Rank|Country|Freedom\n",
      "---|---|---\n",
      "1|Estonia|6\n",
      "2|Iceland|6\n",
      "3|Canada|15\n",
      "4|Germany|19\n",
      "...|...|...\n",
      "...|mean|47\n",
      "...|...|...\n",
      "62|Ethiopia|83\n",
      "63|Syria|83\n",
      "64|Iran|85\n",
      "65|China|88\n",
      "\n"
     ]
    }
   ],
   "source": [
    "df_md_summary(freedom, mean='Freedom')"
   ]
  },
  {
   "cell_type": "code",
   "execution_count": null,
   "metadata": {},
   "outputs": [],
   "source": []
  }
 ],
 "metadata": {
  "kernelspec": {
   "display_name": "Python 3",
   "language": "python",
   "name": "python3"
  },
  "language_info": {
   "codemirror_mode": {
    "name": "ipython",
    "version": 3
   },
   "file_extension": ".py",
   "mimetype": "text/x-python",
   "name": "python",
   "nbconvert_exporter": "python",
   "pygments_lexer": "ipython3",
   "version": "3.7.2"
  }
 },
 "nbformat": 4,
 "nbformat_minor": 2
}
